{
 "cells": [
  {
   "cell_type": "code",
   "execution_count": null,
   "id": "d4294490-3a46-4146-82e7-38d256e085de",
   "metadata": {},
   "outputs": [],
   "source": [
    "#Import the relevant libraries\n",
    "import pandas as pd\n",
    "import numpy as np\n",
    "import matplotlib.pyplot as plt\n",
    "import seaborn as sns\n",
    "from scipy import stats\n",
    "import statsmodels.api as sm \n",
    "import statsmodels.formula.api as smf\n"
   ]
  },
  {
   "cell_type": "code",
   "execution_count": null,
   "id": "915ca957-68db-460b-b2cd-4d887d094e3f",
   "metadata": {},
   "outputs": [],
   "source": [
    "#Read from the csv file using Pandas\n",
    "df=pd.read_csv('clinical_data.csv')\n",
    "\n",
    "#Displays column headings,info about the csv, shape of the dataset and brief statistical summary \n",
    "print(df.head())\n",
    "print(f\"Dataframe shape: {df.shape}\")\n",
    "print(df.info())\n",
    "print(df.describe())"
   ]
  },
  {
   "cell_type": "code",
   "execution_count": null,
   "id": "62936600-fd08-40f4-8ca4-07aa6f27e6f8",
   "metadata": {},
   "outputs": [],
   "source": [
    "#Tidy the dataset by removing duplicates any missing values \n",
    "print(f\"Missing values: {df.isnull().sum()}\")\n",
    "df=df.dropna()"
   ]
  },
  {
   "cell_type": "code",
   "execution_count": null,
   "id": "17649eff-d6ab-494c-8faa-d2a5882f5c72",
   "metadata": {},
   "outputs": [],
   "source": [
    "#Convert groups to categorical, and check to see if successful\n",
    "df['group']=df['group'].astype('category')\n",
    "df=pd.get_dummies(df,columns=['group'], drop_first=True)\n",
    "df.rename(columns={'group_treatment':'group_treatment'}, inplace=True)\n",
    "print(df.head())\n",
    "print(df.columns)"
   ]
  },
  {
   "cell_type": "code",
   "execution_count": null,
   "id": "712e2128-65f1-499c-9524-a00931e65ffc",
   "metadata": {},
   "outputs": [],
   "source": [
    "#Convert all columns used in modelling to numeric types\n",
    "df['group_treatment']=pd.to_numeric(df['group_treatment'], errors='coerce')\n",
    "df['hba1c']=pd.to_numeric(df['hba1c'], errors='coerce')\n",
    "df['time']=pd.to_numeric(df['time'], errors='coerce')"
   ]
  },
  {
   "cell_type": "code",
   "execution_count": null,
   "id": "6fa386b8-557c-4603-9255-590713d9f27a",
   "metadata": {},
   "outputs": [],
   "source": [
    "#Calculate the averages\n",
    "avg_hba1c=df[df['group_treatment']==1]['hba1c'].mean()\n",
    "avg_placebo=df[df['group_treatment']==0]['hba1c'].mean()\n",
    "print(f\"Average Hba1c for treatment group: {avg_hba1c}\")\n",
    "print(f\"Average placebo for treatment group: {avg_placebo}\")\n",
    "\n",
    "# Calculate the hba1c change\n",
    "df['hba1c_change']=df.groupby('subject_id')['hba1c'].transform(lambda x:x -x.iloc[0])"
   ]
  },
  {
   "cell_type": "code",
   "execution_count": null,
   "id": "25944e7b-5029-43a0-8883-29f8e0de3013",
   "metadata": {},
   "outputs": [],
   "source": [
    "#Count occurences of each type of adverse event\n",
    "adverse_events=df['adverse_event'].value_counts()\n",
    "print(adverse_events)"
   ]
  },
  {
   "cell_type": "code",
   "execution_count": null,
   "id": "2f918d81-f47e-4058-95e4-e400e164a649",
   "metadata": {},
   "outputs": [],
   "source": [
    "#Data visualistion of Hba1c levels over time\n",
    "plt.figure(figsize=(10,6))\n",
    "sns.lineplot(x='time', y='hba1c', hue='group_treatment', data=df)\n",
    "plt.title('Hba1c Levels over Time')\n",
    "plt.xlabel('Time (weeks)')\n",
    "plt.show()"
   ]
  },
  {
   "cell_type": "code",
   "execution_count": null,
   "id": "565b2bca-f287-4dd8-919d-7a5d470ff80a",
   "metadata": {},
   "outputs": [],
   "source": [
    "# Box plot of final levels Hba1c placebo vs treatment\n",
    "plt.figure(figsize=(8,6))\n",
    "sns.boxplot(x='group_treatment', y='hba1c',hue='group_treatment', data=df)\n",
    "plt.title('Final Hba1c Levels: Treatment vs Placebo')\n",
    "plt.xlabel('Group')\n",
    "plt.ylabel('Hba1c Level')\n",
    "plt.show()"
   ]
  },
  {
   "cell_type": "code",
   "execution_count": null,
   "id": "f327299b-1949-4c4f-a1cf-6d970e4db52e",
   "metadata": {},
   "outputs": [],
   "source": [
    "# Barchart of adverse events\n",
    "plt.figure(figsize=(12,6))\n",
    "adverse_events.plot(kind='bar')\n",
    "plt.title('Most Common Adverse Events')\n",
    "plt.xlabel('Adverse Event')\n",
    "plt.ylabel('Frequency')\n",
    "plt.show()"
   ]
  },
  {
   "cell_type": "code",
   "execution_count": null,
   "id": "1c003755-43b1-4a6e-afe8-048c58782f86",
   "metadata": {},
   "outputs": [],
   "source": [
    "# Scatter graph of hba1c change\n",
    "plt.figure(figsize=(10,6))\n",
    "sns.scatterplot(x='initial_hba1c', y='hba1c_change', hue='group_treatment', data=df)\n",
    "plt.title('Intial Hba1c vs Change in Hba1c')\n",
    "plt.xlabel('Initial Hba1c')\n",
    "plt.ylabel('Change in Hba1c')\n",
    "plt.show()"
   ]
  },
  {
   "cell_type": "code",
   "execution_count": null,
   "id": "583d60bb-bbe3-4828-bb87-beee28a3d68c",
   "metadata": {},
   "outputs": [],
   "source": [
    "#Perform a t-test and print out the results\n",
    "t_stat, p_value = stats.ttest_ind(df[df['group_treatment']==1]['hba1c'], df[df['group_treatment']==0]['hba1c'])\n",
    "print(f\"T-test result: t-stat = {t_stat}, p-value = {p_value}\")\n",
    "                                "
   ]
  },
  {
   "cell_type": "code",
   "execution_count": null,
   "id": "0cda57ad-9e10-4595-997c-91aa987097e6",
   "metadata": {},
   "outputs": [],
   "source": [
    "#Perform ANOVA using statsmodels formula API\n",
    "model =smf.ols('hba1c ~ time + group_treatment', data=df).fit()\n",
    "aov_table=sm.stats.anova_lm(model, typ=2)\n",
    "print(aov_table)"
   ]
  },
  {
   "cell_type": "code",
   "execution_count": null,
   "id": "02853d99-fd1b-4e5c-af43-fe6d9bdecd60",
   "metadata": {},
   "outputs": [],
   "source": [
    "#Use chi=squared test to compare adverse event rates between groups\n",
    "adverse_event_table=pd.crosstab(df['group_treatment'], df['adverse_event'])\n",
    "\n",
    "#Create a contingency table for adverse evnets by treatment group\n",
    "chi2, p, dof, expected = stats.chi2_contingency(adverse_event_table, correction=False)\n",
    "print(f\"Chi_squared test result:  chi2= {chi2}, p-value = {p}\")"
   ]
  },
  {
   "cell_type": "code",
   "execution_count": null,
   "id": "8b64ef8c-84ae-441d-b3a1-713630d233df",
   "metadata": {},
   "outputs": [],
   "source": [
    "# Check if age_group is in dataset\n",
    "if 'age_group' not in df.columns:\n",
    "    df['age_group']=pd.cut(df['age'], bins=[0, 30, 60, 90], labels=['Young', 'Middle-aged', 'Old'])"
   ]
  },
  {
   "cell_type": "code",
   "execution_count": null,
   "id": "5b505ff7-5e90-4857-b9cc-1839f5fb761b",
   "metadata": {},
   "outputs": [],
   "source": [
    "#Create box plot of hba1c by age group and treatment group\n",
    "sns.boxplot(x='age_group', y='hba1c', hue='group_treatment', data=df)\n",
    "plt.title('Hba1c Reduction by AGe Group and Gender')\n",
    "plt.xlabel('Age Group')\n",
    "plt.ylabel('Hba1c Reduction')\n",
    "plt.show()\n"
   ]
  },
  {
   "cell_type": "code",
   "execution_count": 67,
   "id": "82e8f1ef-ecf3-4ad1-a325-576a0a3f579b",
   "metadata": {},
   "outputs": [
    {
     "name": "stdout",
     "output_type": "stream",
     "text": [
      "Correlation between Duration of Diabetes and Hba1c reduction: -0.01094921262555449\n"
     ]
    }
   ],
   "source": [
    "# Calculate the correlation between duration of diabetes and hba1c change\n",
    "correlation = df['duration_diabetes'].corr(df['hba1c_change'])\n",
    "print(f\"Correlation between Duration of Diabetes and Hba1c reduction: {correlation}\")"
   ]
  },
  {
   "cell_type": "code",
   "execution_count": null,
   "id": "0ac39cc5-a255-4971-a4d9-7ad6a7636662",
   "metadata": {},
   "outputs": [],
   "source": []
  }
 ],
 "metadata": {
  "kernelspec": {
   "display_name": "Python 3 (ipykernel)",
   "language": "python",
   "name": "python3"
  },
  "language_info": {
   "codemirror_mode": {
    "name": "ipython",
    "version": 3
   },
   "file_extension": ".py",
   "mimetype": "text/x-python",
   "name": "python",
   "nbconvert_exporter": "python",
   "pygments_lexer": "ipython3",
   "version": "3.12.5"
  }
 },
 "nbformat": 4,
 "nbformat_minor": 5
}
