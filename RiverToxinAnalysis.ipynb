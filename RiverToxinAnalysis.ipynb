{
 "cells": [
  {
   "cell_type": "code",
   "execution_count": null,
   "id": "3c0dff17-08c7-4c87-99f5-8701e0c07955",
   "metadata": {},
   "outputs": [],
   "source": [
    "#Import the relevant libraries\n",
    "import pandas as pd\n",
    "import numpy as np\n",
    "import matplotlib.pyplot as plt\n",
    "import seaborn as sns\n",
    "from scipy import stats\n",
    "from sklearn.linear_model import LinearRegression\n",
    "\n",
    "#Read from the csv file using Pandas\n",
    "df=pd.read_csv('National_River_Toxin_Dataset_1.csv')\n",
    "\n",
    "#Displays column headings,info about the csv, shape of the dataset and brief statistical summary \n",
    "print(df.head())\n",
    "print(df.info())\n",
    "print(df.shape)\n",
    "print(df.describe())\n",
    "\n",
    "#Tidy the dataset by removing duplicates and filling in blanks \n",
    "print(df.isnull().sum())\n",
    "numeric_columns = df.select_dtypes(include=[np.number]).columns\n",
    "df[numeric_columns]=df[numeric_columns].fillna(df[numeric_columns].mean())\n",
    "\n",
    "#Converting dates to datetime\n",
    "df['Date']=pd.to_datetime(df['Date'])"
   ]
  },
  {
   "cell_type": "code",
   "execution_count": null,
   "id": "586f6422-8748-42de-a320-74c1df12fbc0",
   "metadata": {},
   "outputs": [],
   "source": [
    "#Calculate the average toxin levels and visualisation\n",
    "\n",
    "# Compute the average toxins, including Dissolved Oxygen\n",
    "avg_toxins = df.groupby('River_System')[['Lead', 'Mercury', 'Arsenic']].mean().reset_index()\n",
    "\n",
    "# Print the first 5 rows of avg_toxins\n",
    "print(f\"Average toxin levels:\\n{avg_toxins}\")"
   ]
  },
  {
   "cell_type": "code",
   "execution_count": null,
   "id": "0ef2fe1f-d7af-4590-bc51-88b261374dec",
   "metadata": {},
   "outputs": [],
   "source": [
    "#Identify top polluted rivers by Lead\n",
    "lead_pollution= df.groupby('River_System')['Lead'].mean().sort_values(ascending=False)\n",
    "print(f\"Top polluted rivers by Lead: \\n{lead_pollution.head()}\")\n",
    "\n",
    "plt.figure(figsize=(10,6))\n",
    "lead_pollution.plot(kind='bar', color='skyblue')\n",
    "plt.title('Average Lead levels by River System')\n",
    "plt.xlabel('River System')\n",
    "plt.ylabel('Toxin Level')\n",
    "plt.show()"
   ]
  },
  {
   "cell_type": "code",
   "execution_count": null,
   "id": "3d9ec663-64a9-48ee-aa09-5d04a456db37",
   "metadata": {},
   "outputs": [],
   "source": [
    "#Line graph of lead levels over time\n",
    "plt.figure(figsize=(10,6))\n",
    "sns.lineplot(x='Date', y='Lead', data=df, hue='River_System', errorbar=None)\n",
    "errorbar=None\n",
    "plt.title('Lead Levels Over Time')\n",
    "plt.xlabel('Date')\n",
    "plt.ylabel('Lead Level')\n",
    "plt.show()\n"
   ]
  },
  {
   "cell_type": "code",
   "execution_count": null,
   "id": "0ff67fa6-23c4-410f-b246-66c7678b34a3",
   "metadata": {},
   "outputs": [],
   "source": [
    "#Identify top polluted rivers by Arsenic\n",
    "arsenic_pollution= df.groupby('River_System')['Arsenic'].mean().sort_values(ascending=False)\n",
    "print(f\"Top polluted rivers by Arsenic: \\n{arsenic_pollution.head()}\")\n",
    "\n",
    "plt.figure(figsize=(10,6))\n",
    "arsenic_pollution.plot(kind='bar', color='skyblue')\n",
    "plt.title('Average Arsenic levels by River System')\n",
    "plt.xlabel('River System')\n",
    "plt.ylabel('Toxin Level')\n",
    "plt.show()"
   ]
  },
  {
   "cell_type": "code",
   "execution_count": null,
   "id": "57060297-e97c-4dfb-880a-e113f828ea4c",
   "metadata": {},
   "outputs": [],
   "source": [
    "#Line graph of arsenic levels over time\n",
    "plt.figure(figsize=(10,6))\n",
    "sns.lineplot(x='Date', y='Arsenic', data=df, hue='River_System', errorbar=None)\n",
    "errorbar=None\n",
    "plt.title('Arsenic Levels Over Time')\n",
    "plt.xlabel('Date')\n",
    "plt.ylabel('Arsenic Level')\n",
    "plt.show()"
   ]
  },
  {
   "cell_type": "code",
   "execution_count": null,
   "id": "10450fcf-5c80-4bbb-b4ce-66788fde581d",
   "metadata": {},
   "outputs": [],
   "source": [
    "#Identify top polluted rivers by Mercury\n",
    "mercury_pollution= df.groupby('River_System')['Mercury'].mean().sort_values(ascending=False)\n",
    "print(f\"Top polluted rivers by Mercury: \\n{mercury_pollution.head()}\")\n",
    "\n",
    "plt.figure(figsize=(10,6))\n",
    "mercury_pollution.plot(kind='bar', color='skyblue')\n",
    "plt.title('Average Mercury levels by River System')\n",
    "plt.xlabel('River System')\n",
    "plt.ylabel('Toxin Level')\n",
    "plt.show()"
   ]
  },
  {
   "cell_type": "code",
   "execution_count": null,
   "id": "c1e600f8-af14-4623-aad1-cd9539147d30",
   "metadata": {},
   "outputs": [],
   "source": [
    "#Line graph of Mercury levels over time\n",
    "plt.figure(figsize=(10,6))\n",
    "sns.lineplot(x='Date', y='Mercury', data=df, hue='River_System', errorbar=None)\n",
    "errorbar=None\n",
    "plt.title('Mercury Levels Over Time')\n",
    "plt.xlabel('Date')\n",
    "plt.ylabel('Mercury Level')\n",
    "plt.show()"
   ]
  },
  {
   "cell_type": "code",
   "execution_count": null,
   "id": "dacf85dd-2c5b-4c1f-845b-1003a25b116f",
   "metadata": {},
   "outputs": [],
   "source": [
    "#Compute the correlation matrix using only numeric columns\n",
    "corr_matrix=df[numeric_columns].corr()\n",
    "\n",
    "#Heatmap for correlations between different parameters\n",
    "plt.figure(figsize=(10,6))\n",
    "sns.heatmap(corr_matrix, annot=True, cmap='coolwarm')\n",
    "plt.title('Correlation Heatmap')\n",
    "plt.show()"
   ]
  },
  {
   "cell_type": "code",
   "execution_count": null,
   "id": "fc9db254-1f5d-4d17-b69f-79dcf2ec711c",
   "metadata": {},
   "outputs": [],
   "source": [
    "#T test between two river systems\n",
    "amazon=df[df['River_System']=='Amazon']['Lead']\n",
    "yangtze=df[df['River_System']=='Yangtze']['Lead']\n",
    "t_stat, p_value= stats.ttest_ind(amazon, yangtze)\n",
    "print(f\"T test between Amazon and Yangtze for Lead: T statistic = {t_stat}, P-value = {p_value}\")\n",
    "\n",
    "amazon_mercury=df[df['River_System']=='Amazon']['Mercury']\n",
    "yangtze_mercury=df[df['River_System']=='Yangtze']['Mercury']\n",
    "t_stat2, p_value2= stats.ttest_ind(amazon_mercury, yangtze_mercury)\n",
    "print(f\"T test between Amazon and Yangtze for Mercury: T statistic = {t_stat2}, P-value = {p_value2}\")\n",
    "\n",
    "amazon_arsenic=df[df['River_System']=='Amazon']['Arsenic']\n",
    "yangtze_arsenic=df[df['River_System']=='Yangtze']['Arsenic']\n",
    "t_stat3, p_value3= stats.ttest_ind(amazon_arsenic, yangtze_arsenic)\n",
    "print(f\"T test between Amazon and Yangtze for Arsenic: T statistic = {t_stat3}, P-value = {p_value3}\")\n"
   ]
  },
  {
   "cell_type": "code",
   "execution_count": null,
   "id": "6b92497a-a745-4368-9ecb-d1c8439e835b",
   "metadata": {},
   "outputs": [],
   "source": [
    "#Linear regression between toxinn levels and pH values\n",
    "x=df[['pH_Level']]\n",
    "y=df['Lead']\n",
    "model= LinearRegression()\n",
    "model.fit(x,y)\n",
    "print(f\"Linear Regression Coefficients for Lead: {model.coef_}\")\n",
    "print(f\"Linear Regression Intercept for Lead: {model.intercept_}\")\n",
    "\n",
    "X=df[['pH_Level']]\n",
    "Y=df['Arsenic']\n",
    "model= LinearRegression()\n",
    "model.fit(X,Y)\n",
    "print(f\"Linear Regression Coefficients for Arsenic: {model.coef_}\")\n",
    "print(f\"Linear Regression Intercept for Arsenic: {model.intercept_}\")\n",
    "\n",
    "a=df[['pH_Level']]\n",
    "b=df['Mercury']\n",
    "model= LinearRegression()\n",
    "model.fit(a,b)\n",
    "print(f\"Linear Regression Coefficients for Mercury: {model.coef_}\")\n",
    "print(f\"Linear Regression Intercept for Mercury: {model.intercept_}\")"
   ]
  },
  {
   "cell_type": "code",
   "execution_count": null,
   "id": "cd1edd0a-f671-439b-a46e-5a75e7b6c388",
   "metadata": {},
   "outputs": [],
   "source": []
  }
 ],
 "metadata": {
  "kernelspec": {
   "display_name": "Python 3 (ipykernel)",
   "language": "python",
   "name": "python3"
  },
  "language_info": {
   "codemirror_mode": {
    "name": "ipython",
    "version": 3
   },
   "file_extension": ".py",
   "mimetype": "text/x-python",
   "name": "python",
   "nbconvert_exporter": "python",
   "pygments_lexer": "ipython3",
   "version": "3.12.5"
  }
 },
 "nbformat": 4,
 "nbformat_minor": 5
}
